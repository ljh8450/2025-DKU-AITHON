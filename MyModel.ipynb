{
 "cells": [
  {
   "cell_type": "markdown",
   "id": "5f3769b7",
   "metadata": {},
   "source": [
    "# 2025-DKU-AITHON"
   ]
  },
  {
   "cell_type": "markdown",
   "id": "82087a04",
   "metadata": {},
   "source": [
    "### Task: 공장 관련 모델"
   ]
  },
  {
   "cell_type": "code",
   "execution_count": null,
   "id": "d4105489",
   "metadata": {},
   "outputs": [],
   "source": [
    "#code"
   ]
  }
 ],
 "metadata": {
  "language_info": {
   "name": "python"
  }
 },
 "nbformat": 4,
 "nbformat_minor": 5
}
